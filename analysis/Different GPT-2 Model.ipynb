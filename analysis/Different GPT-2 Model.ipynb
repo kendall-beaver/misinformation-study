{
 "cells": [
  {
   "cell_type": "code",
   "execution_count": 3,
   "id": "a9b9c470-4dbb-454b-9dea-4c0d043d0cd7",
   "metadata": {
    "scrolled": true
   },
   "outputs": [
    {
     "name": "stderr",
     "output_type": "stream",
     "text": [
      "The attention mask and the pad token id were not set. As a consequence, you may observe unexpected behavior. Please pass your input's `attention_mask` to obtain reliable results.\n",
      "Setting `pad_token_id` to `eos_token_id`:50256 for open-end generation.\n"
     ]
    },
    {
     "name": "stdout",
     "output_type": "stream",
     "text": [
      "Title: \"Misinformation Ad: 2 Friends Meeting up at the Post Office\"\n",
      "\n",
      "Characters:\n",
      "- Man: a middle-aged man who is skeptical about misinformation posted online and remains rational in every situation.\n",
      "- Mel: a middle-aged female who has been reading a lot of online conspiracies\n",
      "\n",
      "(Scene opens up at a simple looking post-office. The man and Mel run into each other and are surprised to see each other.)\n",
      "\n",
      "Man: \"Oh, hey Mel. Funny running into you here at the post office. We haven't seen you in awhile.\"\n",
      "\n",
      "Mel: \"Well, I've been really busy hanging out with my new friends. They're pretty great and they really get me, not like this post office. \n",
      "They have problems!\"\n",
      "\n",
      "Man: \"Whoa, whoa, that's cool. That's cool that you have new friends. So, do you guys talk karaoke? I know that's kind of your thing.\"\n",
      "\n",
      "Mel: \"No, but we have some great online chats about BIG POSTAL. Have you seen the price of stamps lately?\"\n",
      "\n",
      "Man: (Sighs) \"Uh, well, uh, do y'all go bowling? I know how much you love the lanes.\" \n",
      "\n",
      "Mel: \"They're not really big bowlers. They're more serious than that. Did you know that CARRIER PIGEONS are actually faster than mail trucks?!\"\n",
      "\n",
      "Man: \"I, I don't think that's true, but um, hey, have they heard you do your amazing cover of 'Forest for the Trees'?\"\n",
      "\n",
      "Mel: \"No... But we have talked about storming this post office tomorrow night.\"\n",
      "\n",
      "\n",
      "Man: \"Hey Mel. Let's see, when I come back I'm gonna go see a car show. It's gonna be all about your show! I'm gonna have to see you in the parking lot, and I'm gonna have to see all of it too!\"\n",
      "\n",
      "Mel: \"And so, I hope your show goes on tomorrow!\"\n",
      "\n",
      "[Scene closes.]\n",
      "\n",
      "Scene: Post office\n",
      "\n",
      "Mel: \"So, this post office just opened up its door and there's all these people there for a photo shoot. So what do you guys like?\"\n",
      "\n",
      "Mel: \"Well, we like to do photos that look real. I want to get you the photos of these people.\"\n",
      "\n",
      "Man: \"Oh? Well, that's not cool.\"\n",
      "\n",
      "Mel: \"Look, it's got all these places to get pictures, but I'm going to take you down to one of these places for you to take a couple pictures of. And then you'll talk about it in the forum.\"\n",
      "\n",
      "Mental:\n"
     ]
    }
   ],
   "source": [
    "from transformers import GPT2LMHeadModel, GPT2Tokenizer\n",
    "\n",
    "tokenizer = GPT2Tokenizer.from_pretrained(\"gpt2\")\n",
    "model = GPT2LMHeadModel.from_pretrained(\"gpt2\")\n",
    "\n",
    "prompt = \"\"\"Title: \"Misinformation Ad: 2 Friends Meeting up at the Post Office\"\n",
    "\n",
    "Characters:\n",
    "- Man: a middle-aged man who is skeptical about misinformation posted online and remains rational in every situation.\n",
    "- Mel: a middle-aged female who has been reading a lot of online conspiracies\n",
    "\n",
    "(Scene opens up at a simple looking post-office. The man and Mel run into each other and are surprised to see each other.)\n",
    "\n",
    "Man: \"Oh, hey Mel. Funny running into you here at the post office. We haven't seen you in awhile.\"\n",
    "\n",
    "Mel: \"Well, I've been really busy hanging out with my new friends. They're pretty great and they really get me, not like this post office. \n",
    "They have problems!\"\n",
    "\n",
    "Man: \"Whoa, whoa, that's cool. That's cool that you have new friends. So, do you guys talk karaoke? I know that's kind of your thing.\"\n",
    "\n",
    "Mel: \"No, but we have some great online chats about BIG POSTAL. Have you seen the price of stamps lately?\"\n",
    "\n",
    "Man: (Sighs) \"Uh, well, uh, do y'all go bowling? I know how much you love the lanes.\" \n",
    "\n",
    "Mel: \"They're not really big bowlers. They're more serious than that. Did you know that CARRIER PIGEONS are actually faster than mail trucks?!\"\n",
    "\n",
    "Man: \"I, I don't think that's true, but um, hey, have they heard you do your amazing cover of 'Forest for the Trees'?\"\n",
    "\n",
    "Mel: \"No... But we have talked about storming this post office tomorrow night.\"\n",
    "\n",
    "\"\"\"\n",
    "\n",
    "input_ids = tokenizer.encode(prompt, return_tensors='pt')\n",
    "\n",
    "output = model.generate(input_ids, max_length=575, do_sample=True, top_k=50, top_p=0.95)\n",
    "print(tokenizer.decode(output[0], skip_special_tokens=True))\n"
   ]
  },
  {
   "cell_type": "code",
   "execution_count": null,
   "id": "bb5db3b6-567e-4c6b-aab4-8167b5f21a56",
   "metadata": {},
   "outputs": [],
   "source": [
    "Transcript of video\n",
    "\n",
    "Man: \"Oh, hey Mel. Funny running into you here at the post office. We haven't seen you in awhile.\"\n",
    "\n",
    "Mel: \"Well, I've been really busy hanging out with my new friends. They're pretty great and they really get me, not like this post office. \n",
    "They have problems!\"\n",
    "\n",
    "Man: \"Whoa, whoa, that's cool. That's cool that you have new friends. So, do you guys talk karaoke? I know that's kind of your thing.\"\n",
    "\n",
    "Mel: \"No, but we have some great online chats about BIG POSTAL. Have you seen the price of stamps lately?\"\n",
    "\n",
    "Man: (Sighs) \"Uh, well, uh, do y'all go bowling? I know how much you love the lanes.\" \n",
    "\n",
    "Mel: \"They're not really big bowlers. They're more serious than that. Did you know that CARRIER PIGEONS are actually faster than mail trucks?!\"\n",
    "\n",
    "Man: \"I, I don't think that's true, but um, hey, have they heard you do your amazing cover of 'Forest for the Trees'?\"\n",
    "\n",
    "Mel: \"No... But we have talked about storming this post office tomorrow night.\"\n",
    "\n",
    "Man: \"Ohh, boy. Look, uh, I'm really sorry that I haven't called in awhile. We all love having you around, so why don't you join us for \n",
    "some karaoke tomorrow night instead? We can talk about whatever you want.\"\n",
    "\n",
    "Mel: \"Really? Well I guess we could just NOT storm the post office. I mean, it is conveniently located.\"\n",
    "\n",
    "The narrator enters. \n",
    "\n",
    "Narrator: \"It's great to find a new community online. But you shouldn't have to be extreme just to get them to accept you. \n",
    "Find out more at Immersivetruth.org.\"\n",
    "\n",
    "\n"
   ]
  }
 ],
 "metadata": {
  "kernelspec": {
   "display_name": "Python 3 (ipykernel)",
   "language": "python",
   "name": "python3"
  },
  "language_info": {
   "codemirror_mode": {
    "name": "ipython",
    "version": 3
   },
   "file_extension": ".py",
   "mimetype": "text/x-python",
   "name": "python",
   "nbconvert_exporter": "python",
   "pygments_lexer": "ipython3",
   "version": "3.13.1"
  }
 },
 "nbformat": 4,
 "nbformat_minor": 5
}
